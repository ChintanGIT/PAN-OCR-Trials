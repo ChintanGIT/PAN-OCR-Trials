{
  "nbformat": 4,
  "nbformat_minor": 0,
  "metadata": {
    "colab": {
      "name": "Copy of OCR trial-1.ipynb",
      "provenance": []
    },
    "kernelspec": {
      "name": "python3",
      "display_name": "Python 3"
    }
  },
  "cells": [
    {
      "cell_type": "code",
      "metadata": {
        "id": "X5WZd1Z8vIeq",
        "colab": {
          "base_uri": "https://localhost:8080/"
        },
        "outputId": "84aca7ae-4eff-400a-886a-4c3f744b549c"
      },
      "source": [
        "!pip install easyocr"
      ],
      "execution_count": null,
      "outputs": [
        {
          "output_type": "stream",
          "text": [
            "Collecting easyocr\n",
            "\u001b[?25l  Downloading https://files.pythonhosted.org/packages/34/49/c0bc96969a7f8167fb0478e50ad3f5ad2c6d93c99e20dc82875e92e0d783/easyocr-1.1.10-py3-none-any.whl (48.9MB)\n",
            "\u001b[K     |████████████████████████████████| 48.9MB 95kB/s \n",
            "\u001b[?25hCollecting python-bidi\n",
            "  Downloading https://files.pythonhosted.org/packages/33/b0/f942d146a2f457233baaafd6bdf624eba8e0f665045b4abd69d1b62d097d/python_bidi-0.4.2-py2.py3-none-any.whl\n",
            "Requirement already satisfied: torchvision>=0.5 in /usr/local/lib/python3.6/dist-packages (from easyocr) (0.8.1+cu101)\n",
            "Requirement already satisfied: opencv-python in /usr/local/lib/python3.6/dist-packages (from easyocr) (4.1.2.30)\n",
            "Requirement already satisfied: numpy in /usr/local/lib/python3.6/dist-packages (from easyocr) (1.18.5)\n",
            "Requirement already satisfied: scipy in /usr/local/lib/python3.6/dist-packages (from easyocr) (1.4.1)\n",
            "Requirement already satisfied: Pillow in /usr/local/lib/python3.6/dist-packages (from easyocr) (7.0.0)\n",
            "Requirement already satisfied: scikit-image in /usr/local/lib/python3.6/dist-packages (from easyocr) (0.16.2)\n",
            "Requirement already satisfied: torch in /usr/local/lib/python3.6/dist-packages (from easyocr) (1.7.0+cu101)\n",
            "Requirement already satisfied: six in /usr/local/lib/python3.6/dist-packages (from python-bidi->easyocr) (1.15.0)\n",
            "Requirement already satisfied: imageio>=2.3.0 in /usr/local/lib/python3.6/dist-packages (from scikit-image->easyocr) (2.4.1)\n",
            "Requirement already satisfied: matplotlib!=3.0.0,>=2.0.0 in /usr/local/lib/python3.6/dist-packages (from scikit-image->easyocr) (3.2.2)\n",
            "Requirement already satisfied: PyWavelets>=0.4.0 in /usr/local/lib/python3.6/dist-packages (from scikit-image->easyocr) (1.1.1)\n",
            "Requirement already satisfied: networkx>=2.0 in /usr/local/lib/python3.6/dist-packages (from scikit-image->easyocr) (2.5)\n",
            "Requirement already satisfied: future in /usr/local/lib/python3.6/dist-packages (from torch->easyocr) (0.16.0)\n",
            "Requirement already satisfied: dataclasses in /usr/local/lib/python3.6/dist-packages (from torch->easyocr) (0.7)\n",
            "Requirement already satisfied: typing-extensions in /usr/local/lib/python3.6/dist-packages (from torch->easyocr) (3.7.4.3)\n",
            "Requirement already satisfied: pyparsing!=2.0.4,!=2.1.2,!=2.1.6,>=2.0.1 in /usr/local/lib/python3.6/dist-packages (from matplotlib!=3.0.0,>=2.0.0->scikit-image->easyocr) (2.4.7)\n",
            "Requirement already satisfied: python-dateutil>=2.1 in /usr/local/lib/python3.6/dist-packages (from matplotlib!=3.0.0,>=2.0.0->scikit-image->easyocr) (2.8.1)\n",
            "Requirement already satisfied: cycler>=0.10 in /usr/local/lib/python3.6/dist-packages (from matplotlib!=3.0.0,>=2.0.0->scikit-image->easyocr) (0.10.0)\n",
            "Requirement already satisfied: kiwisolver>=1.0.1 in /usr/local/lib/python3.6/dist-packages (from matplotlib!=3.0.0,>=2.0.0->scikit-image->easyocr) (1.3.1)\n",
            "Requirement already satisfied: decorator>=4.3.0 in /usr/local/lib/python3.6/dist-packages (from networkx>=2.0->scikit-image->easyocr) (4.4.2)\n",
            "Installing collected packages: python-bidi, easyocr\n",
            "Successfully installed easyocr-1.1.10 python-bidi-0.4.2\n"
          ],
          "name": "stdout"
        }
      ]
    },
    {
      "cell_type": "code",
      "metadata": {
        "id": "uGuxeO4lvJ18"
      },
      "source": [
        "\n",
        "import matplotlib.pyplot as plt\n",
        "import cv2\n",
        "import easyocr\n",
        "from pylab import rcParams\n",
        "from IPython.display import Image\n",
        "rcParams['figure.figsize'] = 8, 16"
      ],
      "execution_count": null,
      "outputs": []
    },
    {
      "cell_type": "code",
      "metadata": {
        "id": "xgz3ODnLvYrX",
        "colab": {
          "base_uri": "https://localhost:8080/"
        },
        "outputId": "a6aa7e36-f424-4a69-ff26-68dc5fb4516c"
      },
      "source": [
        "reader = easyocr.Reader(['en'])"
      ],
      "execution_count": null,
      "outputs": [
        {
          "output_type": "stream",
          "text": [
            "CUDA not available - defaulting to CPU. Note: This module is much faster with a GPU.\n",
            "Downloading detection model, please wait. This may take several minutes depending upon your network connection.\n"
          ],
          "name": "stderr"
        },
        {
          "output_type": "stream",
          "text": [
            ""
          ],
          "name": "stdout"
        },
        {
          "output_type": "stream",
          "text": [
            "Downloading recognition model, please wait. This may take several minutes depending upon your network connection.\n"
          ],
          "name": "stderr"
        },
        {
          "output_type": "stream",
          "text": [
            ""
          ],
          "name": "stdout"
        }
      ]
    },
    {
      "cell_type": "code",
      "metadata": {
        "id": "Lb-kVZiqvdbv",
        "colab": {
          "base_uri": "https://localhost:8080/",
          "height": 180
        },
        "outputId": "0a357ee3-aee0-493b-f07c-c6364b6eabf1"
      },
      "source": [
        "Image(\"2.jpg\")"
      ],
      "execution_count": null,
      "outputs": [
        {
          "output_type": "execute_result",
          "data": {
            "image/jpeg": "[encoded data removed]",
            "text/plain": [
              "<IPython.core.display.Image object>"
            ]
          },
          "metadata": {
            "tags": []
          },
          "execution_count": 5
        }
      ]
    },
    {
      "cell_type": "code",
      "metadata": {
        "id": "hK0aHFvQvm47"
      },
      "source": [
        "output = reader.readtext('2.jpg')"
      ],
      "execution_count": null,
      "outputs": []
    },
    {
      "cell_type": "code",
      "metadata": {
        "id": "pXpR3Vsjvncb",
        "colab": {
          "base_uri": "https://localhost:8080/"
        },
        "outputId": "586d69c3-0d58-4a0e-d2c6-313c21ae743f"
      },
      "source": [
        "output"
      ],
      "execution_count": null,
      "outputs": [
        {
          "output_type": "execute_result",
          "data": {
            "text/plain": [
              "[([[39, 0], [91, 0], [91, 13], [39, 13]], 'zll4ea', 0.0010529909050092101),\n",
              " ([[97, 0], [139, 0], [139, 13], [97, 13]], 'TelHl`T', 0.003835831070318818),\n",
              " ([[39, 15], [141, 15], [141, 33], [39, 33]],\n",
              "  'INCOMETAV DEPARTIEIT',\n",
              "  0.00034066211082972586),\n",
              " ([[191, 15], [277, 15], [277, 31], [191, 31]],\n",
              "  'GOVT. OF INDIA',\n",
              "  0.05445075407624245),\n",
              " ([[43, 33], [165, 33], [165, 47], [43, 47]],\n",
              "  'SAMJAY KUMAA PfAJAFAn',\n",
              "  0.0044948081485927105),\n",
              " ([[42, 48], [179, 48], [179, 64], [42, 64]],\n",
              "  'DUKHIYA PAASHAD PHAJAPATI',\n",
              "  0.04717685282230377),\n",
              " ([[43, 69], [91, 69], [91, 81], [43, 81]], 'n2c lgga', 0.0010875103762373328),\n",
              " ([[44, 90], [115, 90], [115, 108], [44, 108]],\n",
              "  'GJOPP5524G',\n",
              "  0.0921887680888176)]"
            ]
          },
          "metadata": {
            "tags": []
          },
          "execution_count": 8
        }
      ]
    },
    {
      "cell_type": "code",
      "metadata": {
        "id": "R0gqlrE0v2Lj",
        "colab": {
          "base_uri": "https://localhost:8080/",
          "height": 202
        },
        "outputId": "29da0720-485c-4743-ef29-ab14e7b52b7e"
      },
      "source": [
        "Image(\"1.jpg\")"
      ],
      "execution_count": null,
      "outputs": [
        {
          "output_type": "execute_result",
          "data": {
            "image/jpeg": "[encoded data removed]",
            "text/plain": [
              "<IPython.core.display.Image object>"
            ]
          },
          "metadata": {
            "tags": []
          },
          "execution_count": 10
        }
      ]
    },
    {
      "cell_type": "code",
      "metadata": {
        "id": "EXTtqzPTwJqn"
      },
      "source": [
        "output = reader.readtext('1.jpg')"
      ],
      "execution_count": null,
      "outputs": []
    },
    {
      "cell_type": "code",
      "metadata": {
        "id": "nmnell1swQXz",
        "colab": {
          "base_uri": "https://localhost:8080/"
        },
        "outputId": "73e4f3c1-eab9-427f-aa66-7ccf86dd49e4"
      },
      "source": [
        "output"
      ],
      "execution_count": null,
      "outputs": [
        {
          "output_type": "execute_result",
          "data": {
            "text/plain": [
              "[([[77, 21], [121, 21], [121, 37], [77, 37]], 'fHleT', 0.057152990251779556),\n",
              " ([[168, 22], [207, 22], [207, 39], [168, 39]], 'HI7H', 0.055913615971803665),\n",
              " ([[17, 23], [71, 23], [71, 37], [17, 37]], 'll4+r', 0.011493489146232605),\n",
              " ([[213, 25], [257, 25], [257, 37], [213, 37]],\n",
              "  'Heals',\n",
              "  0.0006470419466495514),\n",
              " ([[15, 41], [121, 41], [121, 55], [15, 55]],\n",
              "  'INCUME THY DEPAHTHLIT',\n",
              "  0.005885102786123753),\n",
              " ([[171, 41], [257, 41], [257, 55], [171, 55]],\n",
              "  'GOVTOF INDLA',\n",
              "  0.07113296538591385),\n",
              " ([[30, 58], [88, 58], [88, 66], [30, 66]],\n",
              "  'MlrerslH7JDly',\n",
              "  2.8853190947586427e-09),\n",
              " ([[22, 78], [70, 78], [70, 86], [22, 86]],\n",
              "  'nunnlenn\"',\n",
              "  4.027654358651489e-05),\n",
              " ([[24, 100], [66, 100], [66, 108], [24, 108]],\n",
              "  '101[171\"0:',\n",
              "  7.045291567919776e-07),\n",
              " ([[22, 120], [78, 120], [78, 128], [22, 128]],\n",
              "  'EHZPIIcGuIr',\n",
              "  5.855979907209985e-05),\n",
              " ([[63, 135], [113, 135], [113, 149], [63, 149]],\n",
              "  '=ya47 6_4~1',\n",
              "  1.227269876835635e-06),\n",
              " ([[42, 142], [64, 142], [64, 148], [42, 148]], 'au5`', 5.196914935368113e-05),\n",
              " ([[22, 158], [52, 158], [52, 164], [22, 164]],\n",
              "  'Gnnlu',\n",
              "  1.2671377589867916e-05)]"
            ]
          },
          "metadata": {
            "tags": []
          },
          "execution_count": 14
        }
      ]
    },
    {
      "cell_type": "code",
      "metadata": {
        "id": "MV5f-M2YwYx3",
        "colab": {
          "base_uri": "https://localhost:8080/",
          "height": 162
        },
        "outputId": "76e798cf-4f6a-40d9-b2b8-dd7f820a4fb0"
      },
      "source": [
        "f.write('whatever')"
      ],
      "execution_count": null,
      "outputs": [
        {
          "output_type": "error",
          "ename": "NameError",
          "evalue": "ignored",
          "traceback": [
            "\u001b[0;31m---------------------------------------------------------------------------\u001b[0m",
            "\u001b[0;31mNameError\u001b[0m                                 Traceback (most recent call last)",
            "\u001b[0;32m<ipython-input-15-76cc2cd79d36>\u001b[0m in \u001b[0;36m<module>\u001b[0;34m()\u001b[0m\n\u001b[0;32m----> 1\u001b[0;31m \u001b[0mf\u001b[0m\u001b[0;34m.\u001b[0m\u001b[0mwrite\u001b[0m\u001b[0;34m(\u001b[0m\u001b[0;34m'whatever'\u001b[0m\u001b[0;34m)\u001b[0m\u001b[0;34m\u001b[0m\u001b[0;34m\u001b[0m\u001b[0m\n\u001b[0m",
            "\u001b[0;31mNameError\u001b[0m: name 'f' is not defined"
          ]
        }
      ]
    },
    {
      "cell_type": "code",
      "metadata": {
        "id": "5xKIFPKmyAue",
        "colab": {
          "base_uri": "https://localhost:8080/"
        },
        "outputId": "39e56fa9-0c5f-41cf-807f-cc96713c91e7"
      },
      "source": [
        "print(output)"
      ],
      "execution_count": null,
      "outputs": [
        {
          "output_type": "stream",
          "text": [
            "[([[77, 21], [121, 21], [121, 37], [77, 37]], 'fHleT', 0.057152990251779556), ([[168, 22], [207, 22], [207, 39], [168, 39]], 'HI7H', 0.055913615971803665), ([[17, 23], [71, 23], [71, 37], [17, 37]], 'll4+r', 0.011493489146232605), ([[213, 25], [257, 25], [257, 37], [213, 37]], 'Heals', 0.0006470419466495514), ([[15, 41], [121, 41], [121, 55], [15, 55]], 'INCUME THY DEPAHTHLIT', 0.005885102786123753), ([[171, 41], [257, 41], [257, 55], [171, 55]], 'GOVTOF INDLA', 0.07113296538591385), ([[30, 58], [88, 58], [88, 66], [30, 66]], 'MlrerslH7JDly', 2.8853190947586427e-09), ([[22, 78], [70, 78], [70, 86], [22, 86]], 'nunnlenn\"', 4.027654358651489e-05), ([[24, 100], [66, 100], [66, 108], [24, 108]], '101[171\"0:', 7.045291567919776e-07), ([[22, 120], [78, 120], [78, 128], [22, 128]], 'EHZPIIcGuIr', 5.855979907209985e-05), ([[63, 135], [113, 135], [113, 149], [63, 149]], '=ya47 6_4~1', 1.227269876835635e-06), ([[42, 142], [64, 142], [64, 148], [42, 148]], 'au5`', 5.196914935368113e-05), ([[22, 158], [52, 158], [52, 164], [22, 164]], 'Gnnlu', 1.2671377589867916e-05)]\n"
          ],
          "name": "stdout"
        }
      ]
    },
    {
      "cell_type": "code",
      "metadata": {
        "id": "w1u2xCj_zeQH"
      },
      "source": [
        "x = open(\"output.txt\",'a')\n",
        "print(output, file=x)\n",
        "x.close()"
      ],
      "execution_count": null,
      "outputs": []
    },
    {
      "cell_type": "code",
      "metadata": {
        "id": "AW-nlRmKzxaT"
      },
      "source": [
        "from PIL import Image\n",
        "img = Image.open('1.jpg').convert('LA')\n",
        "img.save('greyscale.png')"
      ],
      "execution_count": null,
      "outputs": []
    },
    {
      "cell_type": "code",
      "metadata": {
        "id": "3QzQaZoi1lpf",
        "colab": {
          "base_uri": "https://localhost:8080/",
          "height": 162
        },
        "outputId": "dda088c1-0f6c-41cc-dbea-1fd3520450fd"
      },
      "source": [
        "Image(\"greyscale.png\")"
      ],
      "execution_count": null,
      "outputs": [
        {
          "output_type": "error",
          "ename": "TypeError",
          "evalue": "ignored",
          "traceback": [
            "\u001b[0;31m---------------------------------------------------------------------------\u001b[0m",
            "\u001b[0;31mTypeError\u001b[0m                                 Traceback (most recent call last)",
            "\u001b[0;32m<ipython-input-22-7761d50b8d03>\u001b[0m in \u001b[0;36m<module>\u001b[0;34m()\u001b[0m\n\u001b[0;32m----> 1\u001b[0;31m \u001b[0mImage\u001b[0m\u001b[0;34m(\u001b[0m\u001b[0;34m\"greyscale.png\"\u001b[0m\u001b[0;34m)\u001b[0m\u001b[0;34m\u001b[0m\u001b[0;34m\u001b[0m\u001b[0m\n\u001b[0m",
            "\u001b[0;31mTypeError\u001b[0m: 'module' object is not callable"
          ]
        }
      ]
    },
    {
      "cell_type": "code",
      "metadata": {
        "id": "igiGwbZk1_8h"
      },
      "source": [
        "output = reader.readtext('greyscale.png')"
      ],
      "execution_count": null,
      "outputs": []
    },
    {
      "cell_type": "code",
      "metadata": {
        "id": "zZkAl-KY2TfY",
        "colab": {
          "base_uri": "https://localhost:8080/"
        },
        "outputId": "6a4c0eb6-7717-4d62-84e2-0298ec78ca55"
      },
      "source": [
        "output"
      ],
      "execution_count": null,
      "outputs": [
        {
          "output_type": "execute_result",
          "data": {
            "text/plain": [
              "[([[77, 21], [121, 21], [121, 37], [77, 37]], 'fHleT', 0.06488098204135895),\n",
              " ([[19, 23], [69, 23], [69, 37], [19, 37]], '3ll4+r', 0.0008152856607921422),\n",
              " ([[171, 23], [205, 23], [205, 39], [171, 39]], 'HIzH', 0.10356148332357407),\n",
              " ([[213, 25], [257, 25], [257, 37], [213, 37]],\n",
              "  'Hseals',\n",
              "  0.0007157031795941293),\n",
              " ([[15, 41], [121, 41], [121, 55], [15, 55]],\n",
              "  'INCUME THY DEPAHTHLIT',\n",
              "  0.006650328636169434),\n",
              " ([[171, 41], [257, 41], [257, 55], [171, 55]],\n",
              "  'GOVTOF INDLA',\n",
              "  0.07114656269550323),\n",
              " ([[30, 58], [88, 58], [88, 66], [30, 66]],\n",
              "  'MlfrslHr lJuly',\n",
              "  5.016283921577269e-07),\n",
              " ([[22, 78], [70, 78], [70, 86], [22, 86]],\n",
              "  'nunnlenn\"',\n",
              "  4.023964356747456e-05),\n",
              " ([[22, 100], [66, 100], [66, 108], [22, 108]],\n",
              "  '11?1[1[11\"]04:',\n",
              "  9.922109711624216e-08),\n",
              " ([[22, 120], [78, 120], [78, 128], [22, 128]],\n",
              "  'EHZPIIcGuIr',\n",
              "  5.735131708206609e-05),\n",
              " ([[41, 134], [109, 134], [109, 150], [41, 150]],\n",
              "  '5TAFesyas@4-',\n",
              "  2.9172737413318828e-05),\n",
              " ([[22, 158], [52, 158], [52, 164], [22, 164]],\n",
              "  'Gnnlu',\n",
              "  1.2671377589867916e-05)]"
            ]
          },
          "metadata": {
            "tags": []
          },
          "execution_count": 24
        }
      ]
    },
    {
      "cell_type": "code",
      "metadata": {
        "id": "ZmXDS0uM2fgs"
      },
      "source": [
        "from PIL import Image\n",
        "img = Image.open('6.jpg').convert('LA')\n",
        "img.save('greyscale6.png')"
      ],
      "execution_count": null,
      "outputs": []
    },
    {
      "cell_type": "code",
      "metadata": {
        "id": "x2484TeH28QY"
      },
      "source": [
        "output_6 = reader.readtext('greyscale6.png')"
      ],
      "execution_count": null,
      "outputs": []
    },
    {
      "cell_type": "code",
      "metadata": {
        "id": "jzAk_O0X3Dgj",
        "colab": {
          "base_uri": "https://localhost:8080/"
        },
        "outputId": "6979611f-a836-456c-fdb9-a41bd3a023d5"
      },
      "source": [
        "output_6"
      ],
      "execution_count": null,
      "outputs": [
        {
          "output_type": "execute_result",
          "data": {
            "text/plain": [
              "[([[75, 3], [121, 3], [121, 21], [75, 21]], 'feHl3T', 0.02638930082321167),\n",
              " ([[9, 7], [67, 7], [67, 21], [9, 21]], 'ellAeha', 0.0030091165099292994),\n",
              " ([[181, 7], [221, 7], [221, 23], [181, 23]], 'HIHd', 0.11514132469892502),\n",
              " ([[229, 7], [277, 7], [277, 21], [229, 21]], 'HFIdI=', 0.0002695634902920574),\n",
              " ([[181, 25], [277, 25], [277, 43], [181, 43]],\n",
              "  'GOVT. OF IIID!4',\n",
              "  0.051714539527893066),\n",
              " ([[7, 27], [121, 27], [121, 43], [7, 43]],\n",
              "  'IlOOMLTAN DE?ARTIENI',\n",
              "  9.846416105574463e-06),\n",
              " ([[11, 51], [157, 51], [157, 65], [11, 65]],\n",
              "  'LAJESHBALIHISIMA MISHHA',\n",
              "  0.00018240664212498814),\n",
              " ([[11, 69], [71, 69], [71, 81], [11, 81]], 'ERIIISHRA', 0.06513411551713943),\n",
              " ([[11, 89], [63, 89], [63, 101], [11, 101]],\n",
              "  '01!01/1490',\n",
              "  0.033104073256254196),\n",
              " ([[80, 104], [112, 104], [112, 112], [80, 112]],\n",
              "  'lrs7',\n",
              "  5.087837280370877e-07),\n",
              " ([[11, 121], [85, 121], [85, 137], [11, 137]],\n",
              "  'AUUPM695ID',\n",
              "  0.4514372646808624),\n",
              " ([[14, 142], [64, 142], [64, 172], [14, 172]], 'Quly', 0.04309985414147377)]"
            ]
          },
          "metadata": {
            "tags": []
          },
          "execution_count": 27
        }
      ]
    },
    {
      "cell_type": "code",
      "metadata": {
        "id": "VzK1KMXT3TRo"
      },
      "source": [
        "x = open(\"output.txt\",'a')\n",
        "print(output_6, file=x)\n",
        "x.close()"
      ],
      "execution_count": null,
      "outputs": []
    },
    {
      "cell_type": "code",
      "metadata": {
        "id": "5jJ-2rmC3jCI"
      },
      "source": [
        "from PIL import Image\n",
        "img = Image.open('2.jpg').convert('LA')\n",
        "img.save('greyscale2.png')"
      ],
      "execution_count": null,
      "outputs": []
    },
    {
      "cell_type": "code",
      "metadata": {
        "id": "xi7SQ5wf33Y9"
      },
      "source": [
        "from PIL import Image\n",
        "img = Image.open('3.jpg').convert('LA')\n",
        "img.save('greyscale3.png')"
      ],
      "execution_count": null,
      "outputs": []
    },
    {
      "cell_type": "code",
      "metadata": {
        "id": "6JfCJmNU39I1"
      },
      "source": [
        "from PIL import Image\n",
        "img = Image.open('4.jpg').convert('LA')\n",
        "img.save('greyscale4.png')"
      ],
      "execution_count": null,
      "outputs": []
    },
    {
      "cell_type": "code",
      "metadata": {
        "id": "r48KvSdX4B8l"
      },
      "source": [
        "from PIL import Image\n",
        "img = Image.open('5.jpg').convert('LA')\n",
        "img.save('greyscale5.png')"
      ],
      "execution_count": null,
      "outputs": []
    },
    {
      "cell_type": "code",
      "metadata": {
        "id": "sv-RJy7Z4FEE"
      },
      "source": [
        "from PIL import Image\n",
        "img = Image.open('6.jpg').convert('LA')\n",
        "img.save('greyscale6.png')"
      ],
      "execution_count": null,
      "outputs": []
    },
    {
      "cell_type": "code",
      "metadata": {
        "id": "6kCDYolD4H-t"
      },
      "source": [
        "from PIL import Image\n",
        "img = Image.open('7.jpg').convert('LA')\n",
        "img.save('greyscale7.png')"
      ],
      "execution_count": null,
      "outputs": []
    },
    {
      "cell_type": "code",
      "metadata": {
        "id": "Spnq15Ql4LM9"
      },
      "source": [
        "from PIL import Image\n",
        "img = Image.open('8.jpg').convert('LA')\n",
        "img.save('greyscale8.png')"
      ],
      "execution_count": null,
      "outputs": []
    },
    {
      "cell_type": "code",
      "metadata": {
        "id": "rdOImWmM4OR4"
      },
      "source": [
        "from PIL import Image\n",
        "img = Image.open('9.jpg').convert('LA')\n",
        "img.save('greyscale9.png')"
      ],
      "execution_count": null,
      "outputs": []
    },
    {
      "cell_type": "code",
      "metadata": {
        "id": "0C54hnRk4QOY"
      },
      "source": [
        "from PIL import Image\n",
        "img = Image.open('10.jpeg').convert('LA')\n",
        "img.save('greyscale10.png')"
      ],
      "execution_count": null,
      "outputs": []
    },
    {
      "cell_type": "code",
      "metadata": {
        "id": "B0smLHmv4Z7R"
      },
      "source": [
        "from PIL import Image\n",
        "img = Image.open('11.jpg').convert('LA')\n",
        "img.save('greyscale11.png')"
      ],
      "execution_count": null,
      "outputs": []
    },
    {
      "cell_type": "code",
      "metadata": {
        "id": "n9S2N-8d4dEx"
      },
      "source": [
        "from PIL import Image\n",
        "img = Image.open('12.jpg').convert('LA')\n",
        "img.save('greyscale12.png')"
      ],
      "execution_count": null,
      "outputs": []
    },
    {
      "cell_type": "code",
      "metadata": {
        "id": "Ml0yyJbe4fSl"
      },
      "source": [
        "from PIL import Image\n",
        "img = Image.open('13.jpg').convert('LA')\n",
        "img.save('greyscale13.png')"
      ],
      "execution_count": null,
      "outputs": []
    },
    {
      "cell_type": "code",
      "metadata": {
        "id": "xNZ1H2034jll"
      },
      "source": [
        "from PIL import Image\n",
        "img = Image.open('14.jpg').convert('LA')\n",
        "img.save('greyscale14.png')"
      ],
      "execution_count": null,
      "outputs": []
    },
    {
      "cell_type": "code",
      "metadata": {
        "id": "myiRkOy84mux"
      },
      "source": [
        "from PIL import Image\n",
        "img = Image.open('15.jpg').convert('LA')\n",
        "img.save('greyscale15.png')"
      ],
      "execution_count": null,
      "outputs": []
    },
    {
      "cell_type": "code",
      "metadata": {
        "id": "y9ZJ2v_c4osl"
      },
      "source": [
        "output_1 = reader.readtext('greyscale2.png')\n",
        "x = open(\"output.txt\",'a')\n",
        "print(output_1, file=x)\n",
        "x.close()"
      ],
      "execution_count": null,
      "outputs": []
    },
    {
      "cell_type": "code",
      "metadata": {
        "id": "KXlo9iTx6Iug"
      },
      "source": [
        "output_2 = reader.readtext('greyscale2.png')\n",
        "x = open(\"output.txt\",'a')\n",
        "print(output_2, file=x)\n",
        "x.close()"
      ],
      "execution_count": null,
      "outputs": []
    },
    {
      "cell_type": "code",
      "metadata": {
        "id": "NGBqwLhw7DLJ"
      },
      "source": [
        "output_3 = reader.readtext('greyscale3.png')\n",
        "x = open(\"output.txt\",'a')\n",
        "print(output_3, file=x)\n",
        "x.close()"
      ],
      "execution_count": null,
      "outputs": []
    },
    {
      "cell_type": "code",
      "metadata": {
        "id": "VOGU-5Kn7Sxo"
      },
      "source": [
        "output_4 = reader.readtext('greyscale4.png')\n",
        "x = open(\"output.txt\",'a')\n",
        "print(output_4, file=x)\n",
        "x.close()"
      ],
      "execution_count": null,
      "outputs": []
    },
    {
      "cell_type": "code",
      "metadata": {
        "id": "7avAyRrJ7WkJ"
      },
      "source": [
        "output_5 = reader.readtext('greyscale5.png')\n",
        "x = open(\"output.txt\",'a')\n",
        "print(output_5, file=x)\n",
        "x.close()"
      ],
      "execution_count": null,
      "outputs": []
    },
    {
      "cell_type": "code",
      "metadata": {
        "id": "xR5Nn6O47bHM"
      },
      "source": [
        "output_6 = reader.readtext('greyscale6.png')\n",
        "x = open(\"output.txt\",'a')\n",
        "print(output_6, file=x)\n",
        "x.close()"
      ],
      "execution_count": null,
      "outputs": []
    },
    {
      "cell_type": "code",
      "metadata": {
        "id": "YiGFjM-97gM9"
      },
      "source": [
        "output_7 = reader.readtext('greyscale7.png')\n",
        "x = open(\"output.txt\",'a')\n",
        "print(output_7, file=x)\n",
        "x.close()"
      ],
      "execution_count": null,
      "outputs": []
    },
    {
      "cell_type": "code",
      "metadata": {
        "id": "4GsgKBIG7joR"
      },
      "source": [
        "output_8 = reader.readtext('greyscale8.png')\n",
        "x = open(\"output.txt\",'a')\n",
        "print(output_8, file=x)\n",
        "x.close()"
      ],
      "execution_count": null,
      "outputs": []
    },
    {
      "cell_type": "code",
      "metadata": {
        "id": "sn6kZWYu7nqJ"
      },
      "source": [
        "output_9 = reader.readtext('greyscale9.png')\n",
        "x = open(\"output.txt\",'a')\n",
        "print(output_9, file=x)\n",
        "x.close()"
      ],
      "execution_count": null,
      "outputs": []
    },
    {
      "cell_type": "code",
      "metadata": {
        "id": "UUKhhslF7yvR"
      },
      "source": [
        "output_10 = reader.readtext('greyscale10.png')\n",
        "x = open(\"output.txt\",'a')\n",
        "print(output_10, file=x)\n",
        "x.close()"
      ],
      "execution_count": null,
      "outputs": []
    },
    {
      "cell_type": "code",
      "metadata": {
        "id": "GYTkxzif72v1"
      },
      "source": [
        "output_11 = reader.readtext('greyscale11.png')\n",
        "x = open(\"output.txt\",'a')\n",
        "print(output_11, file=x)\n",
        "x.close()"
      ],
      "execution_count": null,
      "outputs": []
    },
    {
      "cell_type": "code",
      "metadata": {
        "id": "4wIl-i-F76al"
      },
      "source": [
        "output_12 = reader.readtext('greyscale12.png')\n",
        "x = open(\"output.txt\",'a')\n",
        "print(output_12, file=x)\n",
        "x.close()"
      ],
      "execution_count": null,
      "outputs": []
    },
    {
      "cell_type": "code",
      "metadata": {
        "id": "vqTDIMbu78up"
      },
      "source": [
        "output_13 = reader.readtext('greyscale13.png')\n",
        "x = open(\"output.txt\",'a')\n",
        "print(output_13, file=x)\n",
        "x.close()"
      ],
      "execution_count": null,
      "outputs": []
    },
    {
      "cell_type": "code",
      "metadata": {
        "id": "0SEQ4r-h7_Lp"
      },
      "source": [
        "output_14 = reader.readtext('greyscale14.png')\n",
        "x = open(\"output.txt\",'a')\n",
        "print(output_14, file=x)\n",
        "x.close()"
      ],
      "execution_count": null,
      "outputs": []
    },
    {
      "cell_type": "code",
      "metadata": {
        "id": "T_I_4all8C2N"
      },
      "source": [
        "output_15 = reader.readtext('greyscale15.png')\n",
        "x = open(\"output.txt\",'a')\n",
        "print(output_15, file=x)\n",
        "x.close()"
      ],
      "execution_count": null,
      "outputs": []
    },
    {
      "cell_type": "code",
      "metadata": {
        "id": "57lqAcbm8Fa9"
      },
      "source": [
        "import re"
      ],
      "execution_count": null,
      "outputs": []
    },
    {
      "cell_type": "code",
      "metadata": {
        "id": "TBCRkGjY_Mml",
        "colab": {
          "base_uri": "https://localhost:8080/",
          "height": 296
        },
        "outputId": "1f93d1eb-960a-4e98-fec5-27d793d06edc"
      },
      "source": [
        ""
      ],
      "execution_count": null,
      "outputs": [
        {
          "output_type": "error",
          "ename": "TypeError",
          "evalue": "ignored",
          "traceback": [
            "\u001b[0;31m---------------------------------------------------------------------------\u001b[0m",
            "\u001b[0;31mTypeError\u001b[0m                                 Traceback (most recent call last)",
            "\u001b[0;32m<ipython-input-62-46884f43a1d9>\u001b[0m in \u001b[0;36m<module>\u001b[0;34m()\u001b[0m\n\u001b[1;32m      1\u001b[0m \u001b[0mtext\u001b[0m \u001b[0;34m=\u001b[0m \u001b[0mopen\u001b[0m\u001b[0;34m(\u001b[0m\u001b[0;34m\"output.txt\"\u001b[0m\u001b[0;34m,\u001b[0m\u001b[0;34m'a'\u001b[0m\u001b[0;34m)\u001b[0m\u001b[0;34m\u001b[0m\u001b[0;34m\u001b[0m\u001b[0m\n\u001b[0;32m----> 2\u001b[0;31m \u001b[0mresult\u001b[0m \u001b[0;34m=\u001b[0m \u001b[0mre\u001b[0m\u001b[0;34m.\u001b[0m\u001b[0msearch\u001b[0m\u001b[0;34m(\u001b[0m\u001b[0;34m'([\\w.-]+)://([\\w.-]+)\\.([\\w.-]+)'\u001b[0m\u001b[0;34m,\u001b[0m \u001b[0mtext\u001b[0m\u001b[0;34m)\u001b[0m\u001b[0;34m\u001b[0m\u001b[0;34m\u001b[0m\u001b[0m\n\u001b[0m",
            "\u001b[0;32m/usr/lib/python3.6/re.py\u001b[0m in \u001b[0;36msearch\u001b[0;34m(pattern, string, flags)\u001b[0m\n\u001b[1;32m    180\u001b[0m     \"\"\"Scan through string looking for a match to the pattern, returning\n\u001b[1;32m    181\u001b[0m     a match object, or None if no match was found.\"\"\"\n\u001b[0;32m--> 182\u001b[0;31m     \u001b[0;32mreturn\u001b[0m \u001b[0m_compile\u001b[0m\u001b[0;34m(\u001b[0m\u001b[0mpattern\u001b[0m\u001b[0;34m,\u001b[0m \u001b[0mflags\u001b[0m\u001b[0;34m)\u001b[0m\u001b[0;34m.\u001b[0m\u001b[0msearch\u001b[0m\u001b[0;34m(\u001b[0m\u001b[0mstring\u001b[0m\u001b[0;34m)\u001b[0m\u001b[0;34m\u001b[0m\u001b[0;34m\u001b[0m\u001b[0m\n\u001b[0m\u001b[1;32m    183\u001b[0m \u001b[0;34m\u001b[0m\u001b[0m\n\u001b[1;32m    184\u001b[0m \u001b[0;32mdef\u001b[0m \u001b[0msub\u001b[0m\u001b[0;34m(\u001b[0m\u001b[0mpattern\u001b[0m\u001b[0;34m,\u001b[0m \u001b[0mrepl\u001b[0m\u001b[0;34m,\u001b[0m \u001b[0mstring\u001b[0m\u001b[0;34m,\u001b[0m \u001b[0mcount\u001b[0m\u001b[0;34m=\u001b[0m\u001b[0;36m0\u001b[0m\u001b[0;34m,\u001b[0m \u001b[0mflags\u001b[0m\u001b[0;34m=\u001b[0m\u001b[0;36m0\u001b[0m\u001b[0;34m)\u001b[0m\u001b[0;34m:\u001b[0m\u001b[0;34m\u001b[0m\u001b[0;34m\u001b[0m\u001b[0m\n",
            "\u001b[0;31mTypeError\u001b[0m: expected string or bytes-like object"
          ]
        }
      ]
    },
    {
      "cell_type": "code",
      "metadata": {
        "id": "_YiSgB_tAbLa"
      },
      "source": [
        "import re\n",
        "mystr = \" 'fHleT' '3ll4+r' 'HIzH''Hseals''INCUME THY DEPAHTHLIT''GOVTOF INDLA''MlfrslHr lJuly''nunnlenn\"', 4.023964356747456e-05), ([[22, 100], [66, 100], [66, 108], [22, 108]], '11?1[1[11\"]04:', 9.922109711624216e-08), ([[22, 120], [78, 120], [78, 128], [22, 128]], 'EHZPIIcGuIr', 5.735131708206609e-05), ([[41, 134], [109, 134], [109, 150], [41, 150]], '5TAFesyas@4-', 2.9172737413318828e-05), ([[22, 158], [52, 158], [52, 164], [22, 164]], 'Gnnlu', 1.2671377589867916e-05)]\n",
        "[([[38, 0], [93, 0], [93, 16], [38, 16]], 'll4dsa', 0.005814640782773495), ([[97, 0], [139, 0], [139, 13], [97, 13]], 'TelHl`T', 0.003758403705433011), ([[191, 0], [227, 0], [227, 13], [191, 13]], 'HIrIci', 0.003127409378066659), ([[233, 0], [275, 0], [275, 11], [233, 11]], '71=|715', 0.00011661215830827132), ([[191, 15], [277, 15], [277, 31], [191, 31]], 'GOVT. OF INDIA', 0.054486483335494995), ([[39, 17], [141, 17], [141, 33], [39, 33]], 'INCOHETIIDEHIATIEIT', 0.0003356169618200511), ([[43, 31], [165, 31], [165, 48], [43, 48]], 'SAMJAV KUMAA PHAJAPAn', 0.03840164840221405), ([[83, 49], [179, 49], [179, 63], [83, 63]], 'HfASHAD PHAIAPATI', 0.010707858949899673), ([[42.21913119055697, 51.375304952445575], [83.93334560620306, 47.64102092069113], [84.78086880944304, 60.624695047554425], [43.06665439379694, 63.35897907930887]], 'DuIKIIYA', 0.010894526727497578), ([[44, 70], [88, 70], [88, 78], [44, 78]], 'uzellgga', 0.0012252196902409196), ([[44, 90], [115, 90], [115, 108], [44, 108]], 'GJOPP5524G', 0.0980730950832367)]\n",
        "[([[5, 3], [65, 3], [65, 19], [5, 19]], '3ll==57', 0.021283697336912155), ([[73, 3], [119, 3], [119, 19], [73, 19]], 'IzTHTT', 0.02010778710246086), ([[179, 7], [219, 7], [219, 21], [179, 21]], 'TTG', 0.003216872923076153), ([[227, 7], [275, 7], [275, 21], [227, 21]], 'T17c5[7', 0.0019998657517135143), ([[3, 23], [119, 23], [119, 41], [3, 41]], 'INCO!LTAA DEPAHTHEIT', 0.005056079011410475), ([[179, 23], [275, 23], [275, 43], [179, 43]], 'GOVT. OF INDIA', 0.12473887205123901), ([[17, 45], [63, 45], [63, 59], [17, 59]], 'AKESH', 0.0868588387966156), ([[19, 59], [195, 59], [195, 73], [19, 73]], 'THEKKUMTHO!ATH GOPALAH BOSE', 0.013718909583985806), ([[17, 85], [75, 85], [75, 99], [17, 99]], '14{05/1986', 0.2041720151901245), ([[4, 104], [28, 104], [28, 112], [4, 112]], 'Fenl;', 0.06102931499481201), ([[17, 115], [91, 115], [91, 129], [17, 129]], 'ATOPBO75LH', 0.08848685771226883)]\n",
        "[([[75, 3], [121, 3], [121, 21], [75, 21]], 'feHl3T', 0.02638930082321167), ([[9, 7], [67, 7], [67, 21], [9, 21]], 'ellAeha', 0.0030091165099292994), ([[181, 7], [221, 7], [221, 23], [181, 23]], 'HIHd', 0.11514132469892502), ([[229, 7], [277, 7], [277, 21], [229, 21]], 'HFIdI=', 0.0002695634902920574), ([[181, 25], [277, 25], [277, 43], [181, 43]], 'GOVT. OF IIID!4', 0.051714539527893066), ([[7, 27], [121, 27], [121, 43], [7, 43]], 'IlOOMLTAN DE?ARTIENI', 9.846416105574463e-06), ([[11, 51], [157, 51], [157, 65], [11, 65]], 'LAJESHBALIHISIMA MISHHA', 0.00018240664212498814), ([[11, 69], [71, 69], [71, 81], [11, 81]], 'ERIIISHRA', 0.06513411551713943), ([[11, 89], [63, 89], [63, 101], [11, 101]], '01!01/1490', 0.033104073256254196), ([[80, 104], [112, 104], [112, 112], [80, 112]], 'lrs7', 5.087837280370877e-07), ([[11, 121], [85, 121], [85, 137], [11, 137]], 'AUUPM695ID', 0.4514372646808624), ([[14, 142], [64, 142], [64, 172], [14, 172]], 'Quly', 0.04309985414147377)]\n",
        "[([[37, 29], [127, 29], [127, 45], [37, 45]], 'Gll3l4S+ fatjHl', 8.73972965109715e-07), ([[173, 31], [205, 31], [205, 45], [173, 45]], 'Hl7r', 0.0028411448001861572), ([[209, 31], [251, 31], [251, 45], [209, 45]], '7178517', 7.804514461895451e-05), ([[173, 47], [251, 47], [251, 61], [173, 61]], 'GOHT,OFIMDIA', 0.010483590885996819), ([[37, 49], [127, 49], [127, 63], [37, 63]], 'IQMgi4DEPRTIE1', 2.9773461847071303e-06), ([[101, 63], [149, 63], [149, 75], [101, 75]], 'PAAJAPATI', 0.035863086581230164), ([[40, 66], [70, 66], [70, 74], [40, 74]], 'Srlt44)', 3.750261157620116e-06), ([[39, 77], [163, 77], [163, 89], [39, 89]], 'DJHHIYA PAASHAO PFLJAPATI', 3.080145631884079e-07), ([[40, 96], [80, 96], [80, 102], [40, 102]], '0#014=54', 3.042232776806486e-08), ([[39, 115], [105, 115], [105, 129], [39, 129]], 'BJQPP552aG', 0.027658235281705856)]\n",
        "[([[75, 3], [121, 3], [121, 21], [75, 21]], 'feHl3T', 0.02638930082321167), ([[9, 7], [67, 7], [67, 21], [9, 21]], 'ellAeha', 0.0030091165099292994), ([[181, 7], [221, 7], [221, 23], [181, 23]], 'HIHd', 0.11514132469892502), ([[229, 7], [277, 7], [277, 21], [229, 21]], 'HFIdI=', 0.0002695634902920574), ([[181, 25], [277, 25], [277, 43], [181, 43]], 'GOVT. OF IIID!4', 0.051714539527893066), ([[7, 27], [121, 27], [121, 43], [7, 43]], 'IlOOMLTAN DE?ARTIENI', 9.846416105574463e-06), ([[11, 51], [157, 51], [157, 65], [11, 65]], 'LAJESHBALIHISIMA MISHHA', 0.00018240664212498814), ([[11, 69], [71, 69], [71, 81], [11, 81]], 'ERIIISHRA', 0.06513411551713943), ([[11, 89], [63, 89], [63, 101], [11, 101]], '01!01/1490', 0.033104073256254196), ([[80, 104], [112, 104], [112, 112], [80, 112]], 'lrs7', 5.087837280370877e-07), ([[11, 121], [85, 121], [85, 137], [11, 137]], 'AUUPM695ID', 0.4514372646808624), ([[14, 142], [64, 142], [64, 172], [14, 172]], 'Quly', 0.04309985414147377)]\n",
        "[([[71, 3], [121, 3], [121, 21], [71, 21]], 'faHlJT', 0.03600161522626877), ([[3, 5], [63, 5], [63, 21], [3, 21]], '3llJ=3T', 0.004073699004948139), ([[179, 7], [221, 7], [221, 23], [179, 23]], 'HFETT', 0.010665974579751492), ([[231, 7], [281, 7], [281, 23], [231, 23]], '7d5I7', 0.006723266094923019), ([[0, 27], [121, 27], [121, 41], [0, 41]], 'INCUHLTAIDEPARIMTMT', 0.0014998328406363726), ([[181, 27], [281, 27], [281, 43], [181, 43]], 'GOVI OF INDLA', 0.21162141859531403), ([[1, 47], [169, 47], [169, 61], [1, 61]], 'KESHAVAHAO THIMATH BAIPOTU', 0.0322701558470726), ([[1, 71], [93, 71], [93, 85], [1, 85]], 'THIIATH BAlPoTu', 0.014017632231116295), ([[1, 97], [57, 97], [57, 111], [1, 111]], '20#11/1974', 0.05477127060294151), ([[44, 110], [106, 110], [106, 118], [44, 118]], 'accqunt Hum!r', 0.0005392302991822362), ([[1, 119], [69, 119], [69, 133], [1, 133]], 'AT2PB4177F', 0.29937708377838135), ([[0, 132], [94, 132], [94, 165], [0, 165]], 'G8 Keaeko', 0.001997957704588771), ([[2, 166], [38, 166], [38, 174], [2, 174]], 'GlEn sturu', 0.001456364057958126)]\n",
        "[([[77, 9], [121, 9], [121, 25], [77, 25]], 'feHlaT', 0.015731206163764), ([[178, 10], [217, 10], [217, 27], [178, 27]], 'TI7HT', 0.04241570085287094), ([[13, 11], [69, 11], [69, 25], [13, 25]], '3ll', 0.005996469873934984), ([[225, 13], [271, 13], [271, 27], [225, 27]], '71?2*', 0.0036409711465239525), ([[179, 29], [273, 29], [273, 47], [179, 47]], 'GOVT, OF INDIA', 0.3154348134994507), ([[11, 31], [121, 31], [121, 47], [11, 47]], 'IICOILTA{ DEPA}I}GVT', 0.00012275003246031702), ([[17, 57], [133, 57], [133, 69], [17, 69]], 'PPAIIDD HUIIH IIAHTO', 0.0002601090236566961), ([[19, 73], [101, 73], [101, 85], [19, 85]], 'VASUDEI MAHTO', 0.01139384601265192), ([[17, 89], [67, 89], [67, 101], [17, 101]], '03/04/199?', 0.22707867622375488), ([[17, 121], [89, 121], [89, 135], [17, 135]], 'AM{}PIM25374', 0.0036313605960458517), ([[19, 145], [59, 145], [59, 165], [19, 165]], 'faralg', 0.020245835185050964)]\n",
        "[([[73, 1], [121, 1], [121, 19], [73, 19]], 'felHTT', 0.14540541172027588), ([[179, 3], [219, 3], [219, 19], [179, 19]], 'HTRGI', 0.032513391226530075), ([[229, 3], [279, 3], [279, 17], [229, 17]], '77]7', 0.0011413786560297012), ([[5, 5], [63, 5], [63, 19], [5, 19]], '3TT4c*', 0.0029820851050317287), ([[181, 23], [279, 23], [279, 37], [181, 37]], 'GOVLOF INDIA', 0.017638253048062325), ([[1, 25], [121, 25], [121, 41], [1, 41]], 'INCOME TAiULIAIIMENT', 0.00030224205693230033), ([[7, 47], [83, 47], [83, 61], [7, 61]], 'SUHESH SIIGH', 0.08478052169084549), ([[7, 71], [69, 71], [69, 83], [7, 83]], 'SHIVSIMGH', 0.009482222609221935), ([[7, 95], [63, 95], [63, 107], [7, 107]], '02|07|1977', 0.1988365650177002), ([[58, 106], [110, 106], [110, 114], [58, 114]], 'ccunl Munubur', 0.04988214001059532), ([[7, 119], [77, 119], [77, 133], [7, 133]], 'BAPPS1841D', 0.20739570260047913), ([[36.71963120067104, 140.46355744080526], [90.82453906716893, 136.18081919433232], [91.28036879932895, 155.53644255919474], [38.17546093283107, 159.81918080566768]], 'Ga', 0.05823449045419693)]\n",
        "[([[237, 175], [371, 175], [371, 227], [237, 227]], 'faT', 0.11061298847198486), ([[56, 184], [221, 184], [221, 225], [56, 225]], 'gnla', 0.007113679312169552), ([[543, 193], [651, 193], [651, 231], [543, 231]], 'Hdl', 0.08896808326244354), ([[672, 194], [811, 194], [811, 236], [672, 236]], 'TdF', 0.006428887601941824), ([[51, 241], [371, 241], [371, 285], [51, 285]], 'INCOHCIA{ DEPARTMGNT', 0.0010765258921310306), ([[539, 246], [804, 246], [804, 294], [539, 294]], 'GOVT. OF INDIA', 0.490143746137619), ([[56, 293], [203, 293], [203, 325], [56, 325]], 'P SUHESH', 0.3107983469963074), ([[56, 358], [164, 358], [164, 390], [56, 390]], 'PALANI', 0.6156919598579407), ([[58, 414], [202, 414], [202, 446], [58, 446]], '16/04/1988', 0.47320011258125305), ([[59, 455], [350, 455], [350, 486], [59, 486]], 'Fsresteys Acceuni Men&er', 1.8643606103374566e-10), ([[58, 498], [265, 498], [265, 539], [58, 539]], 'GCCP$6376B', 0.561866819858551), ([[69, 547], [280, 547], [280, 613], [69, 613]], 'Pg3;', 0.1345282793045044), ([[61, 609], [168, 609], [168, 646], [61, 646]], 'Ssrserre', 0.0060980236157774925)]\n",
        "[([[65, 3], [105, 3], [105, 17], [65, 17]], 'TeTTTT', 0.013317883014678955), ([[9, 5], [59, 5], [59, 19], [9, 19]], 'ellua=', 0.0031975589226931334), ([[155, 5], [187, 5], [187, 19], [155, 19]], '117H', 0.01507112942636013), ([[193, 5], [235, 5], [235, 19], [193, 19]], 'aga5', 0.001297650975175202), ([[7, 21], [105, 21], [105, 35], [7, 35]], 'IOJMLTADEOATIILIT', 7.782108878018335e-05), ([[155, 21], [235, 21], [235, 35], [155, 35]], 'GOVT,OF IIDIA', 0.05679398402571678), ([[42, 46], [76, 46], [76, 52], [42, 52]], '4141414=', 1.0087772978062404e-10), ([[7, 59], [115, 59], [115, 71], [7, 71]], 'HHITIAHNEVAL MUMJnL', 1.4656597159046214e-05), ([[7, 93], [73, 93], [73, 107], [7, 107]], 'ALMPIKO5EAA', 0.09613589942455292)]\n",
        "[([[30, 35], [77, 35], [77, 50], [30, 50]], 'gilea', 0.007157029118388891), ([[85, 35], [125, 35], [125, 51], [85, 51]], 'fea', 0.06729540228843689), ([[163, 39], [195, 39], [195, 53], [163, 53]], 'Hlyci', 0.0016231612535193563), ([[201, 39], [241, 39], [241, 53], [201, 53]], '77al~', 0.005933410953730345), ([[29, 53], [123, 53], [123, 67], [29, 67]], 'LLU!E IA}TEEAIS2IT', 6.2506856011168566e-06), ([[163, 55], [241, 55], [241, 69], [163, 69]], 'GuVT OHLJLLA', 0.0021002800203859806), ([[27, 67], [95, 67], [95, 79], [27, 79]], 'GALAAV JsMcin', 5.1421677198959514e-05), ([[28, 88], [106, 88], [106, 94], [28, 94]], '7451542145', 4.119125613516461e-12), ([[27, 103], [77, 103], [77, 115], [27, 115]], '1204/1995', 0.012972619384527206)]\n",
        "[([[75, 9], [121, 9], [121, 25], [75, 25]], 'felHlaT', 0.027567747980356216), ([[178, 10], [217, 10], [217, 27], [178, 27]], 'HlgeT', 0.04765705019235611), ([[13, 11], [69, 11], [69, 25], [13, 25]], 'llg#', 0.002043051179498434), ([[225, 13], [271, 13], [271, 27], [225, 27]], '71?317', 0.013613393530249596), ([[179, 29], [273, 29], [273, 47], [179, 47]], 'GOVT, OF INDIA', 0.49086350202560425), ([[11, 31], [121, 31], [121, 47], [11, 47]], 'INCOILTAY DEPA}T}5VT', 3.2319971069227904e-05), ([[17, 57], [135, 57], [135, 69], [17, 69]], 'FRAIMOD HUMIAH IIAHTO', 5.344415330910124e-05), ([[19, 73], [101, 73], [101, 85], [19, 85]], 'VASUDEH MAHTD', 0.005040354561060667), ([[18, 90], [64, 90], [64, 98], [18, 98]], 'ilznar19?', 7.054972002151771e-07), ([[17, 123], [89, 123], [89, 135], [17, 135]], 'A4I3|?M125374', 1.0389653652964626e-06), ([[18, 142], [60, 142], [60, 166], [18, 166]], 'loea9g', 0.06845967471599579)]\n",
        "[([[72, 2], [121, 2], [121, 21], [72, 21]], 'feHTTST', 0.047691211104393005), ([[5, 5], [65, 5], [65, 21], [5, 21]], 'enela', 0.014118075370788574), ([[181, 7], [221, 7], [221, 23], [181, 23]], 'HTgH', 0.08552215248346329), ([[229, 7], [277, 7], [277, 23], [229, 23]], 'zer{', 0.0008699575555510819), ([[3, 25], [121, 25], [121, 41], [3, 41]], 'INOOHE IAY DEPAAThEIIT', 0.0031354583334177732), ([[181, 25], [277, 25], [277, 43], [181, 43]], 'GOVT, OF IND!A', 0.12233495712280273), ([[3, 49], [109, 49], [109, 65], [3, 65]], 'HIMAAMSHU PANCHAL', 0.06771581619977951), ([[3, 67], [111, 67], [111, 81], [3, 81]], 'SHAANTILAL PAHCHAL', 0.08619662374258041), ([[3, 83], [57, 83], [57, 97], [3, 97]], \"15'05/1987\", 0.15166178345680237), ([[2, 104], [110, 104], [110, 112], [2, 112]], '4_6111;52125=a4454014 a4', 5.802140746571477e-23), ([[3, 121], [75, 121], [75, 135], [3, 135]], 'AIMIHF107SK', 0.020067228004336357), ([[4, 164], [30, 164], [30, 172], [4, 172]], 'Graruc', 0.07772377878427505)]\n",
        "[([[75, 0], [123, 0], [123, 17], [75, 17]], 'lerlT', 0.016186170279979706), ([[182, 0], [225, 0], [225, 19], [182, 19]], 'Hlyd', 0.05721898376941681), ([[9, 1], [69, 1], [69, 17], [9, 17]], '3lleI5', 0.0029157930985093117), ([[231, 3], [281, 3], [281, 17], [231, 17]], '71c5]~7', 0.00010563669638941064), ([[183, 19], [281, 19], [281, 39], [183, 39]], 'GOVT. OF INDIA', 0.42568784952163696), ([[9, 23], [123, 23], [123, 37], [9, 37]], 'IMCOMLTHX DEPARTIILNT', 0.002842561574652791), ([[10, 42], [44, 42], [44, 50], [10, 50]], 'Pla', 0.00044930033618584275), ([[48, 42], [80, 42], [80, 50], [48, 50]], 'claT6', 0.00015500548761337996), ([[9, 61], [91, 61], [91, 73], [9, 73]], 'SUHESH GUPTh', 0.027832752093672752), ([[9, 87], [65, 87], [65, 99], [9, 99]], '23!11/1974', 0.5033292174339294), ([[82, 100], [110, 100], [110, 108], [82, 108]], 'ncnlnll_', 6.888584903208539e-05), ([[9, 111], [77, 111], [77, 123], [9, 123]], 'ABCDE1234F', 0.31190016865730286), ([[37, 143], [95, 143], [95, 159], [37, 159]], 'SAMPLE', 0.8488998413085938), ([[103, 143], [207, 143], [207, 159], [103, 159]], 'IMMMIHELP.COI', 0.2045527547597885), ([[8, 160], [44, 160], [44, 168], [8, 168]], 'siglaluli', 0.0008351736469194293)]\n",
        "\"\n",
        "found = re.findall(r\"\\'(.*?)'\", mystr)\n",
        "print(found)"
      ],
      "execution_count": null,
      "outputs": []
    },
    {
      "cell_type": "code",
      "metadata": {
        "id": "SuzSpSQ8COFh"
      },
      "source": [
        ""
      ],
      "execution_count": null,
      "outputs": []
    }
  ]
}